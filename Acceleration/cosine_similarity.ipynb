{
  "nbformat": 4,
  "nbformat_minor": 0,
  "metadata": {
    "colab": {
      "name": "欢迎使用 Colaboratory",
      "provenance": [],
      "collapsed_sections": [],
      "toc_visible": true
    },
    "kernelspec": {
      "display_name": "Python 3",
      "name": "python3"
    },
    "accelerator": "GPU"
  },
  "cells": [
    {
      "cell_type": "code",
      "metadata": {
        "id": "LyN7JtSwozMW",
        "outputId": "7128d9e4-6228-4c9d-d975-ca6511c29aef",
        "colab": {
          "base_uri": "https://localhost:8080/"
        }
      },
      "source": [
        "! /opt/bin/nvidia-smi"
      ],
      "execution_count": 1,
      "outputs": [
        {
          "output_type": "stream",
          "text": [
            "Tue Jun  1 08:42:14 2021       \n",
            "+-----------------------------------------------------------------------------+\n",
            "| NVIDIA-SMI 460.32.03    Driver Version: 460.32.03    CUDA Version: 11.2     |\n",
            "|-------------------------------+----------------------+----------------------+\n",
            "| GPU  Name        Persistence-M| Bus-Id        Disp.A | Volatile Uncorr. ECC |\n",
            "| Fan  Temp  Perf  Pwr:Usage/Cap|         Memory-Usage | GPU-Util  Compute M. |\n",
            "|                               |                      |               MIG M. |\n",
            "|===============================+======================+======================|\n",
            "|   0  Tesla T4            Off  | 00000000:00:04.0 Off |                    0 |\n",
            "| N/A   63C    P8    10W /  70W |      0MiB / 15109MiB |      0%      Default |\n",
            "|                               |                      |                  N/A |\n",
            "+-------------------------------+----------------------+----------------------+\n",
            "                                                                               \n",
            "+-----------------------------------------------------------------------------+\n",
            "| Processes:                                                                  |\n",
            "|  GPU   GI   CI        PID   Type   Process name                  GPU Memory |\n",
            "|        ID   ID                                                   Usage      |\n",
            "|=============================================================================|\n",
            "|  No running processes found                                                 |\n",
            "+-----------------------------------------------------------------------------+\n"
          ],
          "name": "stdout"
        }
      ]
    },
    {
      "cell_type": "code",
      "metadata": {
        "id": "p7-XPwkZpD0T"
      },
      "source": [
        "import jax.numpy as jnp\n",
        "import numpy as np\n",
        "from sklearn.metrics.pairwise import cosine_similarity"
      ],
      "execution_count": 16,
      "outputs": []
    },
    {
      "cell_type": "code",
      "metadata": {
        "id": "ZG9cxUTUpJk3"
      },
      "source": [
        "user_dim = 10000\n",
        "item_dim = 1000\n",
        "epoch = 100\n",
        "\n",
        "rating_mat = np.random.random(size=(user_dim, item_dim))"
      ],
      "execution_count": 8,
      "outputs": []
    },
    {
      "cell_type": "markdown",
      "metadata": {
        "id": "WIA0aAZpp-hg"
      },
      "source": [
        "## Sklearn Version"
      ]
    },
    {
      "cell_type": "code",
      "metadata": {
        "id": "zLYoXGp0phYp",
        "outputId": "69e837fd-8aa8-4a41-d931-b7fee2e6c9b6",
        "colab": {
          "base_uri": "https://localhost:8080/"
        }
      },
      "source": [
        "%%time\n",
        "sk_result = cosine_similarity(rating_mat)"
      ],
      "execution_count": 4,
      "outputs": [
        {
          "output_type": "stream",
          "text": [
            "CPU times: user 5.11 s, sys: 431 ms, total: 5.54 s\n",
            "Wall time: 2.96 s\n"
          ],
          "name": "stdout"
        }
      ]
    },
    {
      "cell_type": "markdown",
      "metadata": {
        "id": "54QVx65bpqq3"
      },
      "source": [
        "## Numpy Version"
      ]
    },
    {
      "cell_type": "code",
      "metadata": {
        "id": "u_vcDAEzqEU1",
        "outputId": "a21dfe59-a3d8-40f5-acf9-cdf0a2e8a808",
        "colab": {
          "base_uri": "https://localhost:8080/"
        }
      },
      "source": [
        "%%time\n",
        "l2_vector = np.linalg.norm(rating_mat, axis=1)\n",
        "numerator = np.tensordot(rating_mat, rating_mat, [1, 1])\n",
        "denominator = np.einsum('i,j->ij', l2_vector, l2_vector)\n",
        "np_result = numerator / denominator"
      ],
      "execution_count": 5,
      "outputs": [
        {
          "output_type": "stream",
          "text": [
            "CPU times: user 5.42 s, sys: 550 ms, total: 5.97 s\n",
            "Wall time: 3.53 s\n"
          ],
          "name": "stdout"
        }
      ]
    },
    {
      "cell_type": "markdown",
      "metadata": {
        "id": "j8YuUZuYqXwP"
      },
      "source": [
        "## Jax Version"
      ]
    },
    {
      "cell_type": "code",
      "metadata": {
        "id": "ybpG54s_qelB",
        "outputId": "e4399fe5-73ff-43bf-aa21-fed2a0d50c82",
        "colab": {
          "base_uri": "https://localhost:8080/"
        }
      },
      "source": [
        "%%time\n",
        "jnp_rating_mat = jnp.array(rating_mat).astype(float)\n",
        "jnp_rating_mat\n",
        "\n",
        "jnp_l2_vector = jnp.linalg.norm(jnp_rating_mat, axis=1)\n",
        "numerator = jnp.tensordot(jnp_rating_mat, jnp_rating_mat, [1, 1])\n",
        "denominator = jnp.einsum('i,j->ij', jnp_l2_vector, jnp_l2_vector)\n",
        "jnp_result = numerator / denominator"
      ],
      "execution_count": 7,
      "outputs": [
        {
          "output_type": "stream",
          "text": [
            "CPU times: user 19.7 ms, sys: 96 µs, total: 19.8 ms\n",
            "Wall time: 22.6 ms\n"
          ],
          "name": "stdout"
        }
      ]
    },
    {
      "cell_type": "markdown",
      "metadata": {
        "id": "K2Cd7L_Qw_uK"
      },
      "source": [
        "## JAX With JIT"
      ]
    },
    {
      "cell_type": "code",
      "metadata": {
        "id": "l-uFOhsOxCXl"
      },
      "source": [
        "from jax import jit"
      ],
      "execution_count": 17,
      "outputs": []
    },
    {
      "cell_type": "code",
      "metadata": {
        "id": "x-pD9mlvxEU1"
      },
      "source": [
        "@jit\n",
        "def jnp_cosine(rating_mat):\n",
        "    jnp_l2_vector = jnp.linalg.norm(jnp_rating_mat, axis=1)\n",
        "    numerator = jnp.tensordot(jnp_rating_mat, jnp_rating_mat, [1, 1])\n",
        "    denominator = jnp.einsum('i,j->ij', jnp_l2_vector, jnp_l2_vector)\n",
        "    jnp_result = numerator / denominator\n",
        "    # return jnp_result\n",
        "\n",
        "jnp_rating_mat = jnp.array(rating_mat).astype(float)"
      ],
      "execution_count": 26,
      "outputs": []
    },
    {
      "cell_type": "code",
      "metadata": {
        "id": "G_FVubaMxPqk",
        "outputId": "913d5452-b228-49bf-c38a-a78293608a21",
        "colab": {
          "base_uri": "https://localhost:8080/"
        }
      },
      "source": [
        "%%time\n",
        "jnp_cosine(jnp_rating_mat)"
      ],
      "execution_count": 28,
      "outputs": [
        {
          "output_type": "stream",
          "text": [
            "CPU times: user 113 µs, sys: 17 µs, total: 130 µs\n",
            "Wall time: 138 µs\n"
          ],
          "name": "stdout"
        }
      ]
    }
  ]
}